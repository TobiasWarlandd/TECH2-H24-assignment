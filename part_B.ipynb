{
 "cells": [
  {
   "cell_type": "markdown",
   "metadata": {},
   "source": [
    "# TECH 2 mandatory assignment - Part B\n",
    "\n",
    "Write your solution for Part B in this notebook."
   ]
  },
  {
   "cell_type": "code",
   "execution_count": 64,
   "metadata": {},
   "outputs": [],
   "source": [
    "import pandas as pd \n",
    "import numpy as np\n",
    "from part_A import std_builtin, std_loops\n",
    "\n",
    "df=pd.read_csv(\"data.csv\", header=None)\n",
    "\n",
    "collum1=df[0].dropna().tolist()\n",
    "collum2=df[1].dropna().tolist()\n",
    "collum3=df[2].dropna().tolist()\n"
   ]
  },
  {
   "cell_type": "markdown",
   "metadata": {},
   "source": [
    "# First 100, 1000 and 10 000 using loops "
   ]
  },
  {
   "cell_type": "code",
   "execution_count": 65,
   "metadata": {},
   "outputs": [
    {
     "name": "stdout",
     "output_type": "stream",
     "text": [
      "6.13 μs ± 188 ns per loop (mean ± std. dev. of 7 runs, 100,000 loops each)\n",
      "68.2 μs ± 2.24 μs per loop (mean ± std. dev. of 7 runs, 10,000 loops each)\n",
      "693 μs ± 51.3 μs per loop (mean ± std. dev. of 7 runs, 1,000 loops each)\n"
     ]
    }
   ],
   "source": [
    "\n",
    "%timeit std_loops(collum1)\n",
    "%timeit std_loops(collum2)\n",
    "%timeit std_loops(collum3)"
   ]
  },
  {
   "cell_type": "markdown",
   "metadata": {},
   "source": [
    "# Looking at the builtin function "
   ]
  },
  {
   "cell_type": "code",
   "execution_count": 66,
   "metadata": {},
   "outputs": [
    {
     "name": "stdout",
     "output_type": "stream",
     "text": [
      "6.49 μs ± 18.2 ns per loop (mean ± std. dev. of 7 runs, 100,000 loops each)\n",
      "61.1 μs ± 72.9 ns per loop (mean ± std. dev. of 7 runs, 10,000 loops each)\n",
      "618 μs ± 12.1 μs per loop (mean ± std. dev. of 7 runs, 1,000 loops each)\n"
     ]
    }
   ],
   "source": [
    "%timeit std_builtin(collum1)\n",
    "%timeit std_builtin(collum2)\n",
    "%timeit std_builtin(collum3)"
   ]
  },
  {
   "cell_type": "markdown",
   "metadata": {},
   "source": [
    "# Numpy "
   ]
  },
  {
   "cell_type": "code",
   "execution_count": 67,
   "metadata": {},
   "outputs": [
    {
     "name": "stdout",
     "output_type": "stream",
     "text": [
      "11.1 μs ± 116 ns per loop (mean ± std. dev. of 7 runs, 100,000 loops each)\n",
      "33.6 μs ± 85.2 ns per loop (mean ± std. dev. of 7 runs, 10,000 loops each)\n",
      "272 μs ± 1.94 μs per loop (mean ± std. dev. of 7 runs, 1,000 loops each)\n"
     ]
    }
   ],
   "source": [
    "%timeit np.std(collum1)\n",
    "%timeit np.std(collum2)\n",
    "%timeit np.std(collum3)"
   ]
  },
  {
   "cell_type": "markdown",
   "metadata": {},
   "source": [
    "## Comparing all times"
   ]
  },
  {
   "cell_type": "markdown",
   "metadata": {},
   "source": [
    "When comparing the times it is observed that the std_builtin function beats both of the other functions when both collum 1 and 2, but for the largest list, collum 3, nupmy is the fastest. This means that for larger sequences of numbers numpy performes better, wheras the loops performs the worst for all cases. "
   ]
  },
  {
   "cell_type": "markdown",
   "metadata": {},
   "source": []
  }
 ],
 "metadata": {
  "kernelspec": {
   "display_name": "base",
   "language": "python",
   "name": "python3"
  },
  "language_info": {
   "codemirror_mode": {
    "name": "ipython",
    "version": 3
   },
   "file_extension": ".py",
   "mimetype": "text/x-python",
   "name": "python",
   "nbconvert_exporter": "python",
   "pygments_lexer": "ipython3",
   "version": "3.12.2"
  }
 },
 "nbformat": 4,
 "nbformat_minor": 2
}
